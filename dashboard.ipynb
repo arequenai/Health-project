{
 "cells": [
  {
   "cell_type": "code",
   "execution_count": 7,
   "metadata": {},
   "outputs": [],
   "source": [
    "import streamlit as st\n",
    "import pandas as pd\n",
    "import plotly.express as px\n",
    "from datetime import datetime, timedelta\n",
    "\n",
    "# Load df from CSV\n",
    "df = pd.read_csv('Data/Cleaned/Integrated_data.csv')\n",
    "# Convert 'date' column to datetime\n",
    "df['date'] = pd.to_datetime(df['date'])\n"
   ]
  },
  {
   "cell_type": "code",
   "execution_count": 8,
   "metadata": {},
   "outputs": [],
   "source": [
    "# Define status thresholds (these can be modified)\n",
    "status_thresholds = {\n",
    "    'TSS': {'low': 40, 'high': 70},\n",
    "    'CTL': {'low': 30, 'high': 60},\n",
    "    'ATL': {'low': 40, 'high': 70},\n",
    "    'sleep_score_performance': {'low': 50, 'high': 80},\n",
    "    'sleep_score_consistency': {'low': 50, 'high': 80},\n",
    "    'sleep_score_efficiency': {'low': 70, 'high': 90},\n",
    "    'BMI': {'low': 18.5, 'high': 24.9},\n",
    "    'fat_percentage': {'low': 10, 'high': 20},\n",
    "    'lean_body_mass': {'low': 50, 'high': 70}\n",
    "}\n",
    "\n",
    "# Define function to get status color\n",
    "def get_status_color(value, metric):\n",
    "    if value < status_thresholds[metric]['low']:\n",
    "        return 'red'\n",
    "    elif value > status_thresholds[metric]['high']:\n",
    "        return 'green'\n",
    "    else:\n",
    "        return 'yellow'\n"
   ]
  },
  {
   "cell_type": "code",
   "execution_count": 9,
   "metadata": {},
   "outputs": [],
   "source": [
    "\n",
    "# Calculate metrics for summary page\n",
    "last_2_weeks = df[df['date'] >= datetime.now() - timedelta(days=14)]\n",
    "previous_month = df[(df['date'] < datetime.now() - timedelta(days=14)) & (df['date'] >= datetime.now() - timedelta(days=44))]\n",
    "\n",
    "metrics = {\n",
    "    'training': ['TSS', 'CTL', 'ATL'],\n",
    "    'recovery': ['sleep_score_performance', 'sleep_score_consistency', 'sleep_score_efficiency'],\n",
    "    'nutrition': ['BMI', 'fat_percentage', 'lean_body_mass']\n",
    "}\n"
   ]
  },
  {
   "cell_type": "code",
   "execution_count": 10,
   "metadata": {},
   "outputs": [
    {
     "name": "stderr",
     "output_type": "stream",
     "text": [
      "2024-05-17 19:27:53.911 \n",
      "  \u001b[33m\u001b[1mWarning:\u001b[0m to view this Streamlit app on a browser, run it with the following\n",
      "  command:\n",
      "\n",
      "    streamlit run C:\\Users\\Usuario\\AppData\\Roaming\\Python\\Python312\\site-packages\\ipykernel_launcher.py [ARGUMENTS]\n"
     ]
    }
   ],
   "source": [
    "\n",
    "summary = {block: {} for block in metrics}\n",
    "\n",
    "for block, metric_list in metrics.items():\n",
    "    for metric in metric_list:\n",
    "        summary[block][metric] = {\n",
    "            'value': last_2_weeks[metric].mean(),\n",
    "            'trend': last_2_weeks[metric].mean() - previous_month[metric].mean(),\n",
    "            'status': get_status_color(last_2_weeks[metric].mean(), metric),\n",
    "            'trend_status': get_status_color(last_2_weeks[metric].mean() - previous_month[metric].mean(), metric)\n",
    "        }\n",
    "\n",
    "# Streamlit app\n",
    "st.title('Health Metrics Dashboard')\n",
    "\n",
    "# Summary Page\n",
    "st.header('Summary')\n",
    "\n",
    "for block, metric_list in summary.items():\n",
    "    st.subheader(block.capitalize())\n",
    "    for metric, details in metric_list.items():\n",
    "        st.markdown(f\"**{metric}:** {details['value']:.2f} [{details['status']}]\")\n",
    "        st.markdown(f\"**Trend (last 2 weeks vs previous month):** {details['trend']:.2f} [{details['trend_status']}]\")\n",
    "\n",
    "# Detailed Pages\n",
    "for block, metric_list in metrics.items():\n",
    "    st.header(f\"{block.capitalize()} Details\")\n",
    "    for metric in metric_list:\n",
    "        fig = px.line(df, x='date', y=metric, title=f\"{metric} Over Time\")\n",
    "        st.plotly_chart(fig)\n"
   ]
  },
  {
   "cell_type": "code",
   "execution_count": null,
   "metadata": {},
   "outputs": [],
   "source": [
    "import subprocess\n",
    "\n",
    "# Run the Streamlit app\n",
    "subprocess.run([\"streamlit\", \"run\", \"dashboard.py\"])"
   ]
  }
 ],
 "metadata": {
  "kernelspec": {
   "display_name": "Python 3",
   "language": "python",
   "name": "python3"
  },
  "language_info": {
   "codemirror_mode": {
    "name": "ipython",
    "version": 3
   },
   "file_extension": ".py",
   "mimetype": "text/x-python",
   "name": "python",
   "nbconvert_exporter": "python",
   "pygments_lexer": "ipython3",
   "version": "3.12.2"
  }
 },
 "nbformat": 4,
 "nbformat_minor": 2
}
