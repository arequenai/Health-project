{
 "cells": [
  {
   "cell_type": "code",
   "execution_count": 2,
   "metadata": {},
   "outputs": [
    {
     "name": "stdout",
     "output_type": "stream",
     "text": [
      "TSS metrics:  2023-04-28  to  2024-04-27\n",
      "Sleep and recovery:  2024-03-16  to  2024-04-27\n",
      "MFP per day scrapped:  2024-03-16  to  2024-04-26\n",
      "Glucose daily:  2024-03-23  to  2024-04-27\n"
     ]
    }
   ],
   "source": [
    "### Get all key dfs from Cleaned Data\n",
    "import pandas as pd\n",
    "\n",
    "df_t = pd.read_csv('Data/Cleaned/TSS metrics.csv')\n",
    "df_s = pd.read_csv('Data/Cleaned/Sleep_and_recovery.csv')\n",
    "df_f = pd.read_csv('Data/Cleaned/MFP per day scrapped.csv')\n",
    "df_g = pd.read_csv('Data/Cleaned/Glucose_daily.csv')\n",
    "\n",
    "# Print the min and the max date of each df\n",
    "print('TSS metrics: ', df_t['date'].min(),' to ',df_t['date'].max())\n",
    "print('Sleep and recovery: ',df_s['date'].min(),' to ',df_s['date'].max())\n",
    "print('MFP per day scrapped: ',df_f['date'].min(),' to ',df_f['date'].max())\n",
    "print('Glucose daily: ',df_g['date'].min(),' to ',df_g['date'].max())\n"
   ]
  },
  {
   "cell_type": "code",
   "execution_count": 4,
   "metadata": {},
   "outputs": [
    {
     "name": "stdout",
     "output_type": "stream",
     "text": [
      "New df:  2024-03-23  to  2024-04-26\n"
     ]
    },
    {
     "data": {
      "text/plain": [
       "Index(['date', 'TSS', 'CTL', 'ATL', 'TSB', 'sleep_time',\n",
       "       'sleep_score_performance', 'sleep_score_consistency',\n",
       "       'sleep_score_efficiency', 'sleep_duration', 'sleep_rem', 'sleep_deep',\n",
       "       'sleep_light', 'sleep_awake', 'sleep_unspecified', 'recovery_score',\n",
       "       'resting_hr', 'hrv', 'spo2', 'skin_temp', 'calories_burned', 'carbs',\n",
       "       'fat', 'protein', 'sodium', 'sugar', 'calories_consumed',\n",
       "       'calories_goal', 'calories_net', 'calories_consumed_breakfast',\n",
       "       'calories_consumed_lunch', 'calories_consumed_dinner',\n",
       "       'calories_consumed_snacks', 'mean_glucose', 'std_glucose',\n",
       "       'max_glucose', 'wake_up_glucose'],\n",
       "      dtype='object')"
      ]
     },
     "execution_count": 4,
     "metadata": {},
     "output_type": "execute_result"
    }
   ],
   "source": [
    "# Filter all dfs to the same date range, the one between the min and max date of all dfs\n",
    "min_date = max(df_t['date'].min(),df_s['date'].min(),df_f['date'].min(),df_g['date'].min())\n",
    "max_date = min(df_t['date'].max(),df_s['date'].max(),df_f['date'].max(),df_g['date'].max())\n",
    "\n",
    "df_t = df_t[(df_t['date'] >= min_date) & (df_t['date'] <= max_date)]\n",
    "df_s = df_s[(df_s['date'] >= min_date) & (df_s['date'] <= max_date)]\n",
    "df_f = df_f[(df_f['date'] >= min_date) & (df_f['date'] <= max_date)]\n",
    "df_g = df_g[(df_g['date'] >= min_date) & (df_g['date'] <= max_date)]\n",
    "\n",
    "# Perform an outter join on all dfs\n",
    "df = df_t.merge(df_s, on='date', how='outer')\n",
    "df = df.merge(df_f, on='date', how='outer')\n",
    "df = df.merge(df_g, on='date', how='outer')\n",
    "\n",
    "# Check first and last date of the new df\n",
    "print('New df: ',df['date'].min(),' to ',df['date'].max())\n",
    "\n",
    "# Drop sleep id\n",
    "df.drop('sleep_id',axis=1,inplace=True)\n",
    "\n",
    "df.columns"
   ]
  },
  {
   "cell_type": "code",
   "execution_count": 55,
   "metadata": {},
   "outputs": [],
   "source": [
    "# Save to CSV\n",
    "df.to_csv('Data/Cleaned/Integrated_data.csv', index=False)"
   ]
  },
  {
   "cell_type": "code",
   "execution_count": 5,
   "metadata": {},
   "outputs": [],
   "source": [
    "import pandas as pd\n",
    "from googleapiclient.discovery import build\n",
    "from google.oauth2 import service_account\n",
    "\n",
    "# Load service account credentials\n",
    "creds = service_account.Credentials.from_service_account_file('gsheets key.json')\n",
    "scoped_credentials = creds.with_scopes(['https://www.googleapis.com/auth/spreadsheets'])\n",
    "\n",
    "# Authenticate with Google Sheets API\n",
    "service = build('sheets', 'v4', credentials=scoped_credentials)\n",
    "\n",
    "# Spreadsheet ID and range for Health Dashboards\n",
    "SPREADSHEET_ID_input = '197VfZCekvBev0m1vsi8kUHpuO0IoTRA90_bQRGBYYSM'\n",
    "\n",
    "def Export_Data_To_Sheets(df, sheet_name):\n",
    "    # Specify the range including the sheet name\n",
    "    range_name = f\"{sheet_name}!A1:ZA1000\"\n",
    "    \n",
    "    # Fill NaN values with empty strings\n",
    "    df_filled = df.fillna('')\n",
    "    \n",
    "    # Get DataFrame headers and values\n",
    "    headers = [df_filled.columns.tolist()]\n",
    "    values = df_filled.values.tolist()\n",
    "    \n",
    "    # Concatenate headers with values\n",
    "    data = headers + values\n",
    "    \n",
    "    # Update the spreadsheet with DataFrame values including headers\n",
    "    response = service.spreadsheets().values().update(\n",
    "        spreadsheetId=SPREADSHEET_ID_input,\n",
    "        valueInputOption='RAW',\n",
    "        range=range_name,\n",
    "        body=dict(\n",
    "            majorDimension='ROWS',\n",
    "            values=data)\n",
    "    ).execute()\n",
    "\n",
    "# Specify the sheet name\n",
    "sheet_name = 'Integrated_data'\n",
    "\n",
    "# Export DataFrame to Google Sheets with specified sheet name\n",
    "Export_Data_To_Sheets(df, sheet_name)\n"
   ]
  }
 ],
 "metadata": {
  "kernelspec": {
   "display_name": "Python 3",
   "language": "python",
   "name": "python3"
  },
  "language_info": {
   "codemirror_mode": {
    "name": "ipython",
    "version": 3
   },
   "file_extension": ".py",
   "mimetype": "text/x-python",
   "name": "python",
   "nbconvert_exporter": "python",
   "pygments_lexer": "ipython3",
   "version": "3.12.2"
  }
 },
 "nbformat": 4,
 "nbformat_minor": 2
}
